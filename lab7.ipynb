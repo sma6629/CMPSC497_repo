{
 "cells": [
  {
   "cell_type": "code",
   "execution_count": 2,
   "metadata": {},
   "outputs": [],
   "source": [
    "import cv2 as cv\n",
    "import numpy as np"
   ]
  },
  {
   "cell_type": "code",
   "execution_count": 36,
   "metadata": {},
   "outputs": [],
   "source": [
    "cap = cv.VideoCapture(0)\n",
    "while(1):\n",
    "    # Take each frame\n",
    "    _, frame = cap.read()\n",
    "    # Convert BGR to HSV\n",
    "    hsv = cv.cvtColor(frame, cv.COLOR_BGR2HSV)\n",
    "    lower_red = np.array([0, 100, 100])\n",
    "    upper_red = np.array([10, 255, 255])\n",
    "    mask = cv.inRange(hsv, lower_red, upper_red)\n",
    "    largest_mask = np.zeros_like(mask)\n",
    "\n",
    "    contours, _ = cv.findContours(mask, cv.RETR_EXTERNAL, cv.CHAIN_APPROX_SIMPLE)\n",
    "\n",
    "    if len(contours) > 0:\n",
    "        # find and draw largest object\n",
    "        largest_contour = max(contours, key=cv.contourArea)\n",
    "        cv.drawContours(largest_mask, [largest_contour], -1, (255), thickness=cv.FILLED)\n",
    "\n",
    "    # Bitwise-AND mask with largest object and original image\n",
    "    res = cv.bitwise_and(frame, frame, mask=largest_mask)\n",
    "\n",
    "    cv.imshow('frame', frame)\n",
    "    cv.imshow('mask', largest_mask)\n",
    "    cv.imshow('res', res)\n",
    "    k = cv.waitKey(5) & 0xFF\n",
    "    if k == 27:  # escape key is 27; space is 32, etc\n",
    "        break\n",
    "cv.destroyAllWindows()\n"
   ]
  },
  {
   "cell_type": "code",
   "execution_count": null,
   "metadata": {},
   "outputs": [],
   "source": []
  },
  {
   "cell_type": "code",
   "execution_count": null,
   "metadata": {},
   "outputs": [],
   "source": []
  }
 ],
 "metadata": {
  "kernelspec": {
   "display_name": "base",
   "language": "python",
   "name": "python3"
  },
  "language_info": {
   "codemirror_mode": {
    "name": "ipython",
    "version": 3
   },
   "file_extension": ".py",
   "mimetype": "text/x-python",
   "name": "python",
   "nbconvert_exporter": "python",
   "pygments_lexer": "ipython3",
   "version": "3.9.7"
  }
 },
 "nbformat": 4,
 "nbformat_minor": 2
}
