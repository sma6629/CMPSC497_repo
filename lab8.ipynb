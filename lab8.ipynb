{
 "cells": [
  {
   "cell_type": "code",
   "execution_count": 52,
   "metadata": {},
   "outputs": [],
   "source": [
    "import cv2 as cv\n",
    "import numpy as np"
   ]
  },
  {
   "cell_type": "code",
   "execution_count": 53,
   "metadata": {},
   "outputs": [],
   "source": [
    "def canny(image):\n",
    "    gray = cv.cvtColor(image, cv.COLOR_RGB2GRAY)\n",
    "    blur = cv.GaussianBlur(gray, (5,5), 0)\n",
    "    canny = cv.Canny(blur, 50, 150)\n",
    "    return canny"
   ]
  },
  {
   "cell_type": "code",
   "execution_count": 54,
   "metadata": {},
   "outputs": [],
   "source": [
    "def display_lines(image, lines):\n",
    "    line_image = np.zeros_like(image)\n",
    "    if lines is not None:\n",
    "        for line in lines:\n",
    "            x1, y1, x2, y2 = line.reshape(4)\n",
    "            cv.line(line_image, (x1,y1), (x2, y2), (0, 0, 255), 5)\n",
    "    return line_image"
   ]
  },
  {
   "cell_type": "code",
   "execution_count": 55,
   "metadata": {},
   "outputs": [],
   "source": [
    "def region_of_interest(image):\n",
    "    height = image.shape[0]\n",
    "    polygons = np.array([\n",
    "        [(200, height), (1100, height), (550, 250)]\n",
    "    ])\n",
    "    mask = np.zeros_like(image)\n",
    "    cv.fillPoly(mask, polygons, 255)\n",
    "    masked_image = cv.bitwise_and(image, mask)\n",
    "    return masked_image"
   ]
  },
  {
   "cell_type": "code",
   "execution_count": 57,
   "metadata": {},
   "outputs": [
    {
     "data": {
      "text/plain": [
       "-1"
      ]
     },
     "execution_count": 57,
     "metadata": {},
     "output_type": "execute_result"
    }
   ],
   "source": [
    "image = cv.imread(\"lane1.png\")\n",
    "lane_image = np.copy(image)\n",
    "canny_image = canny(lane_image)\n",
    "cropped_image = region_of_interest(canny_image)\n",
    "lines = cv.HoughLinesP(cropped_image, 2, np.pi/180, 100, np.array([]), minLineLength=40, maxLineGap=5)\n",
    "line_image = display_lines(lane_image, lines)\n",
    "combo_image = cv.addWeighted(lane_image, 0.8, line_image, 1, 1)\n",
    "cv.imshow(\"lanes\", combo_image)\n",
    "cv.waitKey(0)"
   ]
  }
 ],
 "metadata": {
  "kernelspec": {
   "display_name": "Python 3 (ipykernel)",
   "language": "python",
   "name": "python3"
  },
  "language_info": {
   "codemirror_mode": {
    "name": "ipython",
    "version": 3
   },
   "file_extension": ".py",
   "mimetype": "text/x-python",
   "name": "python",
   "nbconvert_exporter": "python",
   "pygments_lexer": "ipython3",
   "version": "3.9.7"
  }
 },
 "nbformat": 4,
 "nbformat_minor": 2
}
